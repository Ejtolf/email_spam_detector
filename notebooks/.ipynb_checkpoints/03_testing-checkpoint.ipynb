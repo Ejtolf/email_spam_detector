{
 "cells": [
  {
   "cell_type": "markdown",
   "id": "5b74219e-fdb7-43c4-9292-ef81eebc7c2e",
   "metadata": {},
   "source": [
    "# Testing"
   ]
  },
  {
   "cell_type": "code",
   "execution_count": 3,
   "id": "374ea2b8-08c1-4c01-86f4-9227618d3aec",
   "metadata": {},
   "outputs": [],
   "source": [
    "import joblib\n",
    "import os"
   ]
  },
  {
   "cell_type": "code",
   "execution_count": 5,
   "id": "3d00cc1a-6427-404d-9340-920cfd6ac601",
   "metadata": {},
   "outputs": [
    {
     "name": "stdout",
     "output_type": "stream",
     "text": [
      "Модель и векторизатор успешно загружены.\n"
     ]
    }
   ],
   "source": [
    "model_path = os.path.join('..', 'src', 'models', 'spam_model.pkl')\n",
    "vectorizer_path = os.path.join('..', 'src', 'models', 'vectorizer.pkl')\n",
    "\n",
    "model = joblib.load(model_path)\n",
    "vectorizer = joblib.load(vectorizer_path)\n",
    "\n",
    "print('Модель и векторизатор успешно загружены.')"
   ]
  },
  {
   "cell_type": "code",
   "execution_count": 6,
   "id": "cb538c37-d95c-493a-9f7d-822eefa88a82",
   "metadata": {},
   "outputs": [],
   "source": [
    "def predict_email(title, text, service):\n",
    "    combined = title + \" \" + text + \" \" + service\n",
    "    vec = vectorizer.transform([combined])\n",
    "    pred = model.predict(vec)[0]\n",
    "    proba = model.predict_proba(vec)[0][1]\n",
    "    \n",
    "    return pred, proba"
   ]
  },
  {
   "cell_type": "code",
   "execution_count": 25,
   "id": "a9bccf54-dbcc-4b24-ac6d-491a7e88931c",
   "metadata": {},
   "outputs": [],
   "source": [
    "emails = [\n",
    "    {\n",
    "        \"title\": \"Поздравляем! Вы выиграли iPhone\",\n",
    "        \"text\": \"Вы были выбраны для получения нового iPhone 15! Заполните анкету до конца дня.\",\n",
    "        \"service\": \"Mail.ru\"\n",
    "    },\n",
    "    {\n",
    "        \"title\": \"Результаты собеседования\",\n",
    "        \"text\": \"Здравствуйте! Мы рады сообщить, что готовы предложить вам должность финансового директора.\",\n",
    "        \"service\": \"Gmail\"\n",
    "    },\n",
    "    {\n",
    "        \"title\": \"Ваша карта заблокирована\",\n",
    "        \"text\": \"Чтобы восстановить доступ, пройдите верификацию по ссылке. Это займёт максимум 30 секунд!\",\n",
    "        \"service\": \"Gmail\"\n",
    "    },\n",
    "    {\n",
    "        \n",
    "    }\n",
    "]"
   ]
  },
  {
   "cell_type": "code",
   "execution_count": 26,
   "id": "c59116fe-ca6f-46ca-ae99-6502865dd6b1",
   "metadata": {},
   "outputs": [
    {
     "name": "stdout",
     "output_type": "stream",
     "text": [
      "📩 'Поздравляем! Вы выиграли iPhone' — 🚨СПАМ🚨 (вероятность спама: 96%)\n",
      "📩 'Результаты собеседования' — ✅НЕ спам✅ (вероятность спама: 9%)\n",
      "📩 'Ваша карта заблокирована' — 🚨СПАМ🚨 (вероятность спама: 89%)\n"
     ]
    }
   ],
   "source": [
    "for email in emails:\n",
    "    label, proba = predict_email(email['title'], email['text'], email['service'])\n",
    "    label_str = '🚨СПАМ🚨' if label else '✅НЕ спам✅'\n",
    "    print(f\"📩 '{email['title']}' — {label_str} (вероятность спама: {int(proba * 100)}%)\")"
   ]
  },
  {
   "cell_type": "code",
   "execution_count": null,
   "id": "42e85d5a-67d6-434a-a3b6-047371595c8e",
   "metadata": {},
   "outputs": [],
   "source": []
  }
 ],
 "metadata": {
  "kernelspec": {
   "display_name": "Python 3 (ipykernel)",
   "language": "python",
   "name": "python3"
  },
  "language_info": {
   "codemirror_mode": {
    "name": "ipython",
    "version": 3
   },
   "file_extension": ".py",
   "mimetype": "text/x-python",
   "name": "python",
   "nbconvert_exporter": "python",
   "pygments_lexer": "ipython3",
   "version": "3.12.6"
  }
 },
 "nbformat": 4,
 "nbformat_minor": 5
}
